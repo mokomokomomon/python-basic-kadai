{
  "nbformat": 4,
  "nbformat_minor": 0,
  "metadata": {
    "colab": {
      "provenance": []
    },
    "kernelspec": {
      "name": "python3",
      "display_name": "Python 3"
    },
    "language_info": {
      "name": "python"
    }
  },
  "cells": [
    {
      "cell_type": "code",
      "execution_count": 4,
      "metadata": {
        "colab": {
          "base_uri": "https://localhost:8080/"
        },
        "id": "52QvtL7rQpJU",
        "outputId": "81d65422-9f37-45db-bf08-8149c44fe9f7"
      },
      "outputs": [
        {
          "output_type": "stream",
          "name": "stdout",
          "text": [
            "75.0cm²\n"
          ]
        }
      ],
      "source": [
        "top = 10\n",
        "bottom = 20\n",
        "height = 5\n",
        "\n",
        "print(str((top + bottom) * height / 2) + \"cm²\")"
      ]
    }
  ]
}