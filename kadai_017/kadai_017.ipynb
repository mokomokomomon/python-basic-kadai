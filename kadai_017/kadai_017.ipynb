{
  "nbformat": 4,
  "nbformat_minor": 0,
  "metadata": {
    "colab": {
      "provenance": []
    },
    "kernelspec": {
      "name": "python3",
      "display_name": "Python 3"
    },
    "language_info": {
      "name": "python"
    }
  },
  "cells": [
    {
      "cell_type": "code",
      "source": [
        "class Human:\n",
        "    def __init__(self, name, age):\n",
        "        self.name = name\n",
        "        self.age = age\n",
        "\n",
        "    def show(self):\n",
        "        print(f\"{self.name}さんは{self.age}歳です。\")\n",
        "\n",
        "    def is_adult(self):\n",
        "        if self.age >= 20:\n",
        "            return True\n",
        "        else:\n",
        "            return False\n",
        "\n",
        "    def check_adult(self):\n",
        "        if self.is_adult():\n",
        "            print(f\"{self.name}さんは大人です。\")\n",
        "        else:\n",
        "            print(f\"{self.name}さんは大人ではありません。\")\n",
        "\n",
        "\n",
        "human1 = Human(\"侍太郎\", 35)\n",
        "human2 = Human(\"侍二郎\", 15)\n",
        "human3 = Human(\"侍三郎\", 25)\n",
        "human4 = Human(\"侍四郎\", 10)\n",
        "\n",
        "humans = [human1, human2, human3, human4]\n",
        "\n",
        "for human in humans:\n",
        "    human.show()\n",
        "    human.check_adult()"
      ],
      "metadata": {
        "colab": {
          "base_uri": "https://localhost:8080/"
        },
        "id": "2S4QyMaRdhQ2",
        "outputId": "bd1c9e68-94e5-42f4-e470-bcb6d2104fd4"
      },
      "execution_count": 1,
      "outputs": [
        {
          "output_type": "stream",
          "name": "stdout",
          "text": [
            "侍太郎さんは35歳です。\n",
            "侍太郎さんは大人です。\n",
            "侍二郎さんは15歳です。\n",
            "侍二郎さんは大人ではありません。\n",
            "侍三郎さんは25歳です。\n",
            "侍三郎さんは大人です。\n",
            "侍四郎さんは10歳です。\n",
            "侍四郎さんは大人ではありません。\n"
          ]
        }
      ]
    }
  ]
}